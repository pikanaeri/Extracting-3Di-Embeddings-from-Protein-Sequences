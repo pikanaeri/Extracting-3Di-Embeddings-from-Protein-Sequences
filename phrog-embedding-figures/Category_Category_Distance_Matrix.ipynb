{
  "nbformat": 4,
  "nbformat_minor": 0,
  "metadata": {
    "colab": {
      "provenance": [],
      "authorship_tag": "ABX9TyPZja3KLWu4xEOnRvjjBfzM",
      "include_colab_link": true
    },
    "kernelspec": {
      "name": "python3",
      "display_name": "Python 3"
    },
    "language_info": {
      "name": "python"
    }
  },
  "cells": [
    {
      "cell_type": "markdown",
      "metadata": {
        "id": "view-in-github",
        "colab_type": "text"
      },
      "source": [
        "<a href=\"https://colab.research.google.com/github/pikanaeri/Extracting-3Di-Embeddings-from-Protein-Sequences/blob/main/phrog-embedding-figures/Category_Category_Distance_Matrix.ipynb\" target=\"_parent\"><img src=\"https://colab.research.google.com/assets/colab-badge.svg\" alt=\"Open In Colab\"/></a>"
      ]
    },
    {
      "cell_type": "code",
      "execution_count": null,
      "metadata": {
        "id": "CR7vZmZxKLzy"
      },
      "outputs": [],
      "source": [
        "#@title Importing Dependencies\n",
        "import pickle\n",
        "from ast import literal_eval\n",
        "import pandas as pd\n",
        "import numpy as np\n",
        "import random\n",
        "import os\n",
        "\n",
        "from sklearn import metrics\n",
        "from sklearn.cluster import SpectralClustering\n",
        "\n",
        "import seaborn as sns\n",
        "import matplotlib\n",
        "import matplotlib.pyplot as plt\n",
        "import textwrap\n",
        "\n",
        "from statannotations.Annotator import Annotator\n",
        "import itertools\n",
        "\n",
        "import networkx as nx\n",
        "from scipy.spatial.distance import squareform\n",
        "\n",
        "phrog_palette = {\n",
        "    'DNA, RNA and nucleotide metabolism': 'red',\n",
        "    'connector': 'blue',\n",
        "    'head and packaging': 'green',\n",
        "    'integration and excision': 'pink',\n",
        "    'lysis': 'gray',\n",
        "    'moron, auxiliary metabolic gene and host takeover': 'brown',\n",
        "    'other': 'purple',\n",
        "    'tail': 'darkorange',\n",
        "    'transcription regulation': 'cyan'\n",
        "}"
      ]
    },
    {
      "cell_type": "code",
      "source": [
        "#@title Reading in PHROGs Information\n",
        "#@markdown * This code will take the labels from the PHROGs information list and place them in a dictionary mapping the PHROG number to the PHROG annotation\n",
        "#@markdown * Download PHROG_index.tsv here: https://storage.googleapis.com/plm-model-comparison/PHROG_index.tsv\n",
        "\n",
        "f = open(\"/home/kellylab/PHROG_index.tsv\", \"r\")\n",
        "labels = f.readline().strip().split(\"\\t\")\n",
        "\n",
        "#Stores name (phrog #), category for each PHROG family\n",
        "phrog_dict = {}\n",
        "#Stores PHROG family count per functional category\n",
        "phrog_count = {}\n",
        "phrog_cnt = 0\n",
        "for line in f:\n",
        "  information = line.strip().split(\"\\t\")\n",
        "  nm = int(information[0].split(\"phrog_\")[1])\n",
        "  phrog_dict[nm] = information[6]\n",
        "  if information[6] in phrog_count:\n",
        "    phrog_count[information[6]] += 1\n",
        "  else:\n",
        "    phrog_count[information[6]] = 1\n",
        "  phrog_cnt += 1\n",
        "\n",
        "for i in phrog_count:\n",
        "  print(i, phrog_count[i])\n",
        "print(\"total \", phrog_cnt)\n",
        "\n",
        "f.close()\n"
      ],
      "metadata": {
        "id": "NBpmSyYSKbs2"
      },
      "execution_count": null,
      "outputs": []
    },
    {
      "cell_type": "code",
      "source": [
        "#@title Reading in PHROGs Embeddings\n",
        "#@markdown * This code will go through all of the embedding data\n",
        "#@markdown * Dictionary stores number, embedding\n",
        "#@markdown * Once the embedding vectors are created and averaged, store them into a final_average_embeddings folder and upload them here\n",
        "\n",
        "categories = {}\n",
        "embeddings = {}\n",
        "os.chdir(\"final_average_embeddings\")\n",
        "\n",
        "for i in os.listdir():\n",
        "  if i.endswith(\".pkl\"):\n",
        "    f2 = open(i, \"rb\")\n",
        "    i2 = i.replace(\".pkl\", \"\").replace(\"phrog_\", \"\").replace(\"_averaged\",\"\")\n",
        "    num = int(i2)\n",
        "    if phrog_dict[num] == \"unknown function\":\n",
        "      f2.close()\n",
        "      continue\n",
        "    embeddings[num] = pickle.load(f2)\n",
        "    if phrog_dict[num] in categories:\n",
        "      categories[phrog_dict[num]].append(num)\n",
        "    else:\n",
        "      categories[phrog_dict[num]] = [num]\n",
        "    f2.close()\n",
        "\n",
        "phrog_dists = {'category':categories.keys(), 'phrogs':categories.values()}\n",
        "phrog_dists = pd.DataFrame(phrog_dists)\n",
        "phrog_dists.sort_values(by='category', inplace=True)\n",
        "cs = set(phrog_dists['category'])"
      ],
      "metadata": {
        "id": "rFL2xEtgLGEK"
      },
      "execution_count": null,
      "outputs": []
    },
    {
      "cell_type": "code",
      "source": [
        "#@title Creating Distance Matrix\n",
        "\n",
        "cat_vs_cat_dists = []\n",
        "cat_vs_cat = {}\n",
        "for i in range(len(cs)):\n",
        "    c = list(cs)[i]\n",
        "    dic = {}\n",
        "    d = phrog_dists[phrog_dists['category'] == c]\n",
        "    for j in range(len(cs)):\n",
        "        if i == j:\n",
        "            continue\n",
        "        cc = list(cs)[j]\n",
        "        nd = phrog_dists[phrog_dists['category'] == cc]\n",
        "        c_vecs = []\n",
        "        nd_vecs = []\n",
        "        for ph in d['phrogs'].iloc[0]:\n",
        "            c_vecs.append(embeddings[ph])\n",
        "        print(nd['phrogs'])\n",
        "        for ph in nd['phrogs'].iloc[0]:\n",
        "            nd_vecs.append(embeddings[ph])\n",
        "        c_vecs = np.array(c_vecs)\n",
        "        nd_vecs = np.array(nd_vecs)\n",
        "        sims = metrics.pairwise.cosine_similarity(c_vecs, nd_vecs)\n",
        "        m_sims = np.mean(sims, axis=0)\n",
        "        mm_sims = np.mean(m_sims, axis=0)\n",
        "        cat_vs_cat_dists.append(zip([c]*len(m_sims), [cc]*len(m_sims), m_sims))\n",
        "        if j > i:\n",
        "            dic[cc] = {'weight': mm_sims}\n",
        "    if len(dic) > 0:\n",
        "        cat_vs_cat[c] = dic\n",
        "\n",
        "cat_vs_cat_dists = [x for y in cat_vs_cat_dists for x in y]\n",
        "df_cat_vs_cat_dists = pd.DataFrame(cat_vs_cat_dists, columns=['label1', 'label2', 'similarity'])\n",
        "df_cat_vs_cat_dists.sort_values(by='label1', inplace=True)\n",
        "df_cat_vs_cat_dists = df_cat_vs_cat_dists.groupby(['label1', 'label2']).mean().drop_duplicates()\n",
        "df_cat_vs_cat_dists.to_csv(\"cat_vs_cat_dists.csv\")"
      ],
      "metadata": {
        "id": "rmQQJlBbLOdv"
      },
      "execution_count": null,
      "outputs": []
    }
  ]
}