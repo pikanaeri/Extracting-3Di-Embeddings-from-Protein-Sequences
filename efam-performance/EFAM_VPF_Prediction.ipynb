{
  "cells": [
    {
      "cell_type": "markdown",
      "metadata": {
        "id": "view-in-github",
        "colab_type": "text"
      },
      "source": [
        "<a href=\"https://colab.research.google.com/github/pikanaeri/Extracting-3Di-Embeddings-from-Protein-Sequences/blob/main/efam-performance/EFAM_VPF_Prediction.ipynb\" target=\"_parent\"><img src=\"https://colab.research.google.com/assets/colab-badge.svg\" alt=\"Open In Colab\"/></a>"
      ]
    },
    {
      "cell_type": "markdown",
      "id": "e43f2d5a",
      "metadata": {
        "id": "e43f2d5a"
      },
      "source": [
        "# EFAM VPF prediction\n",
        "\n",
        "requires efam sequence:embedding dictionary\n",
        "to load the model, make sure that Tensorflow is updated to 2.16 or above\n"
      ]
    },
    {
      "cell_type": "code",
      "execution_count": null,
      "metadata": {
        "id": "WEjCIiCIP9ov"
      },
      "outputs": [],
      "source": [
        "sudo apt-get update -qq\n",
        "sudo apt-get install -y tmux\n",
        "tmux"
      ],
      "id": "WEjCIiCIP9ov"
    },
    {
      "cell_type": "code",
      "execution_count": null,
      "metadata": {
        "id": "jGsgDO0RP9ow"
      },
      "outputs": [],
      "source": [
        "sudo apt-get update\n",
        "sudo apt-get install bzip2 libxml2-dev\n",
        "sudo apt upgrade\n",
        "sudo apt-get install wget\n",
        "wget https://repo.anaconda.com/archive/Anaconda3-2022.05-Linux-x86_64.sh\n",
        "bash Anaconda3-2022.05-Linux-x86_64.sh\n",
        "rm Anaconda3-2022.05-Linux-x86_64.sh"
      ],
      "id": "jGsgDO0RP9ow"
    },
    {
      "cell_type": "code",
      "execution_count": null,
      "metadata": {
        "id": "XMREb6rkP9ow"
      },
      "outputs": [],
      "source": [
        "sudo fallocate -l 15G /swapfile\n",
        "sudo chmod 600 /swapfile\n",
        "ls -lh /swapfile\n",
        "sudo mkswap /swapfile\n",
        "sudo swapon /swapfile\n",
        "\n",
        "#@markdown Append \"/swapfile swap swap defaults 0 0\" to the /etc/fstab file using a text editor of your choice\n",
        "sudo nano /etc/fstab\n",
        "\n",
        "/swapfile swap swap defaults 0 0"
      ],
      "id": "XMREb6rkP9ow"
    },
    {
      "cell_type": "code",
      "execution_count": null,
      "metadata": {
        "id": "opDDkvUhP9ox"
      },
      "outputs": [],
      "source": [
        "sudo apt-get install git\n",
        "sudo apt install python3-pip\n",
        "\n",
        "python3 --version\n",
        "pip3 --version"
      ],
      "id": "opDDkvUhP9ox"
    },
    {
      "cell_type": "code",
      "execution_count": null,
      "metadata": {
        "colab": {
          "base_uri": "https://localhost:8080/"
        },
        "outputId": "2255fc71-e8cf-4819-c1d8-63207c628858",
        "id": "LoejAOqIP9ox"
      },
      "outputs": [
        {
          "name": "stdout",
          "output_type": "stream",
          "text": [
            "Collecting transformers\n",
            "  Downloading transformers-4.35.0-py3-none-any.whl (7.9 MB)\n",
            "\u001b[2K     \u001b[90m━━━━━━━━━━━━━━━━━━━━━━━━━━━━━━━━━━━━━━━━\u001b[0m \u001b[32m7.9/7.9 MB\u001b[0m \u001b[31m31.1 MB/s\u001b[0m eta \u001b[36m0:00:00\u001b[0m\n",
            "\u001b[?25hRequirement already satisfied: filelock in /usr/local/lib/python3.10/dist-packages (from transformers) (3.13.1)\n",
            "Collecting huggingface-hub<1.0,>=0.16.4 (from transformers)\n",
            "  Downloading huggingface_hub-0.19.0-py3-none-any.whl (311 kB)\n",
            "\u001b[2K     \u001b[90m━━━━━━━━━━━━━━━━━━━━━━━━━━━━━━━━━━━━━━━━\u001b[0m \u001b[32m311.2/311.2 kB\u001b[0m \u001b[31m35.5 MB/s\u001b[0m eta \u001b[36m0:00:00\u001b[0m\n",
            "\u001b[?25hRequirement already satisfied: numpy>=1.17 in /usr/local/lib/python3.10/dist-packages (from transformers) (1.23.5)\n",
            "Requirement already satisfied: packaging>=20.0 in /usr/local/lib/python3.10/dist-packages (from transformers) (23.2)\n",
            "Requirement already satisfied: pyyaml>=5.1 in /usr/local/lib/python3.10/dist-packages (from transformers) (6.0.1)\n",
            "Requirement already satisfied: regex!=2019.12.17 in /usr/local/lib/python3.10/dist-packages (from transformers) (2023.6.3)\n",
            "Requirement already satisfied: requests in /usr/local/lib/python3.10/dist-packages (from transformers) (2.31.0)\n",
            "Collecting tokenizers<0.15,>=0.14 (from transformers)\n",
            "  Downloading tokenizers-0.14.1-cp310-cp310-manylinux_2_17_x86_64.manylinux2014_x86_64.whl (3.8 MB)\n",
            "\u001b[2K     \u001b[90m━━━━━━━━━━━━━━━━━━━━━━━━━━━━━━━━━━━━━━━━\u001b[0m \u001b[32m3.8/3.8 MB\u001b[0m \u001b[31m82.7 MB/s\u001b[0m eta \u001b[36m0:00:00\u001b[0m\n",
            "\u001b[?25hCollecting safetensors>=0.3.1 (from transformers)\n",
            "  Downloading safetensors-0.4.0-cp310-cp310-manylinux_2_17_x86_64.manylinux2014_x86_64.whl (1.3 MB)\n",
            "\u001b[2K     \u001b[90m━━━━━━━━━━━━━━━━━━━━━━━━━━━━━━━━━━━━━━━━\u001b[0m \u001b[32m1.3/1.3 MB\u001b[0m \u001b[31m79.9 MB/s\u001b[0m eta \u001b[36m0:00:00\u001b[0m\n",
            "\u001b[?25hRequirement already satisfied: tqdm>=4.27 in /usr/local/lib/python3.10/dist-packages (from transformers) (4.66.1)\n",
            "Requirement already satisfied: fsspec>=2023.5.0 in /usr/local/lib/python3.10/dist-packages (from huggingface-hub<1.0,>=0.16.4->transformers) (2023.6.0)\n",
            "Requirement already satisfied: typing-extensions>=3.7.4.3 in /usr/local/lib/python3.10/dist-packages (from huggingface-hub<1.0,>=0.16.4->transformers) (4.5.0)\n",
            "Collecting huggingface-hub<1.0,>=0.16.4 (from transformers)\n",
            "  Downloading huggingface_hub-0.17.3-py3-none-any.whl (295 kB)\n",
            "\u001b[2K     \u001b[90m━━━━━━━━━━━━━━━━━━━━━━━━━━━━━━━━━━━━━━━━\u001b[0m \u001b[32m295.0/295.0 kB\u001b[0m \u001b[31m37.0 MB/s\u001b[0m eta \u001b[36m0:00:00\u001b[0m\n",
            "\u001b[?25hRequirement already satisfied: charset-normalizer<4,>=2 in /usr/local/lib/python3.10/dist-packages (from requests->transformers) (3.3.2)\n",
            "Requirement already satisfied: idna<4,>=2.5 in /usr/local/lib/python3.10/dist-packages (from requests->transformers) (3.4)\n",
            "Requirement already satisfied: urllib3<3,>=1.21.1 in /usr/local/lib/python3.10/dist-packages (from requests->transformers) (2.0.7)\n",
            "Requirement already satisfied: certifi>=2017.4.17 in /usr/local/lib/python3.10/dist-packages (from requests->transformers) (2023.7.22)\n",
            "Installing collected packages: safetensors, huggingface-hub, tokenizers, transformers\n",
            "Successfully installed huggingface-hub-0.17.3 safetensors-0.4.0 tokenizers-0.14.1 transformers-4.35.0\n",
            "Looking in indexes: https://pypi.org/simple, https://download.pytorch.org/whl/cu116\n",
            "Requirement already satisfied: torch in /usr/local/lib/python3.10/dist-packages (2.1.0+cu118)\n",
            "Requirement already satisfied: torchvision in /usr/local/lib/python3.10/dist-packages (0.16.0+cu118)\n",
            "Requirement already satisfied: torchaudio in /usr/local/lib/python3.10/dist-packages (2.1.0+cu118)\n",
            "Requirement already satisfied: transformers in /usr/local/lib/python3.10/dist-packages (4.35.0)\n",
            "Collecting sentencepiece\n",
            "  Downloading sentencepiece-0.1.99-cp310-cp310-manylinux_2_17_x86_64.manylinux2014_x86_64.whl (1.3 MB)\n",
            "\u001b[2K     \u001b[90m━━━━━━━━━━━━━━━━━━━━━━━━━━━━━━━━━━━━━━━━\u001b[0m \u001b[32m1.3/1.3 MB\u001b[0m \u001b[31m11.9 MB/s\u001b[0m eta \u001b[36m0:00:00\u001b[0m\n",
            "\u001b[?25hCollecting accelerate\n",
            "  Downloading accelerate-0.24.1-py3-none-any.whl (261 kB)\n",
            "\u001b[2K     \u001b[90m━━━━━━━━━━━━━━━━━━━━━━━━━━━━━━━━━━━━━━━━\u001b[0m \u001b[32m261.4/261.4 kB\u001b[0m \u001b[31m17.9 MB/s\u001b[0m eta \u001b[36m0:00:00\u001b[0m\n",
            "\u001b[?25hRequirement already satisfied: filelock in /usr/local/lib/python3.10/dist-packages (from torch) (3.13.1)\n",
            "Requirement already satisfied: typing-extensions in /usr/local/lib/python3.10/dist-packages (from torch) (4.5.0)\n",
            "Requirement already satisfied: sympy in /usr/local/lib/python3.10/dist-packages (from torch) (1.12)\n",
            "Requirement already satisfied: networkx in /usr/local/lib/python3.10/dist-packages (from torch) (3.2.1)\n",
            "Requirement already satisfied: jinja2 in /usr/local/lib/python3.10/dist-packages (from torch) (3.1.2)\n",
            "Requirement already satisfied: fsspec in /usr/local/lib/python3.10/dist-packages (from torch) (2023.6.0)\n",
            "Requirement already satisfied: triton==2.1.0 in /usr/local/lib/python3.10/dist-packages (from torch) (2.1.0)\n",
            "Requirement already satisfied: numpy in /usr/local/lib/python3.10/dist-packages (from torchvision) (1.23.5)\n",
            "Requirement already satisfied: requests in /usr/local/lib/python3.10/dist-packages (from torchvision) (2.31.0)\n",
            "Requirement already satisfied: pillow!=8.3.*,>=5.3.0 in /usr/local/lib/python3.10/dist-packages (from torchvision) (9.4.0)\n",
            "Requirement already satisfied: huggingface-hub<1.0,>=0.16.4 in /usr/local/lib/python3.10/dist-packages (from transformers) (0.17.3)\n",
            "Requirement already satisfied: packaging>=20.0 in /usr/local/lib/python3.10/dist-packages (from transformers) (23.2)\n",
            "Requirement already satisfied: pyyaml>=5.1 in /usr/local/lib/python3.10/dist-packages (from transformers) (6.0.1)\n",
            "Requirement already satisfied: regex!=2019.12.17 in /usr/local/lib/python3.10/dist-packages (from transformers) (2023.6.3)\n",
            "Requirement already satisfied: tokenizers<0.15,>=0.14 in /usr/local/lib/python3.10/dist-packages (from transformers) (0.14.1)\n",
            "Requirement already satisfied: safetensors>=0.3.1 in /usr/local/lib/python3.10/dist-packages (from transformers) (0.4.0)\n",
            "Requirement already satisfied: tqdm>=4.27 in /usr/local/lib/python3.10/dist-packages (from transformers) (4.66.1)\n",
            "Requirement already satisfied: psutil in /usr/local/lib/python3.10/dist-packages (from accelerate) (5.9.5)\n",
            "Requirement already satisfied: MarkupSafe>=2.0 in /usr/local/lib/python3.10/dist-packages (from jinja2->torch) (2.1.3)\n",
            "Requirement already satisfied: charset-normalizer<4,>=2 in /usr/local/lib/python3.10/dist-packages (from requests->torchvision) (3.3.2)\n",
            "Requirement already satisfied: idna<4,>=2.5 in /usr/local/lib/python3.10/dist-packages (from requests->torchvision) (3.4)\n",
            "Requirement already satisfied: urllib3<3,>=1.21.1 in /usr/local/lib/python3.10/dist-packages (from requests->torchvision) (2.0.7)\n",
            "Requirement already satisfied: certifi>=2017.4.17 in /usr/local/lib/python3.10/dist-packages (from requests->torchvision) (2023.7.22)\n",
            "Requirement already satisfied: mpmath>=0.19 in /usr/local/lib/python3.10/dist-packages (from sympy->torch) (1.3.0)\n",
            "Installing collected packages: sentencepiece, accelerate\n",
            "Successfully installed accelerate-0.24.1 sentencepiece-0.1.99\n"
          ]
        }
      ],
      "source": [
        "pip install transformers\n",
        "pip3 install torch torchvision torchaudio transformers sentencepiece accelerate --extra-index-url https://download.pytorch.org/whl/cu116\n",
        "pip install tensorflow\n",
        "python3"
      ],
      "id": "LoejAOqIP9ox"
    },
    {
      "cell_type": "code",
      "source": [
        "import tensorflow as tf\n",
        "from tensorflow import keras\n",
        "import pickle\n",
        "from ast import literal_eval\n",
        "import pandas as pd\n",
        "import numpy as np\n",
        "import seaborn as sns\n",
        "import matplotlib.pyplot as plt\n",
        "import random\n",
        "from tqdm import tqdm\n",
        "\n",
        "\n",
        "phrog_palette = {\n",
        "    'DNA, RNA and nucleotide metabolism': 'red',\n",
        "    'connector': 'blue',\n",
        "    'head and packaging': 'green',\n",
        "    'integration and excision': 'pink',\n",
        "    'lysis': 'gray',\n",
        "    'moron, auxiliary metabolic gene and host takeover': 'brown',\n",
        "    'other': 'purple',\n",
        "    'tail': 'darkorange',\n",
        "    'transcription regulation': 'cyan',\n",
        "    'unknown': 'black'\n",
        "}\n",
        "\n",
        "#load efam super annotations file\n",
        "efam_super_annote = pd.read_csv('Final_Super_Condensed_Annotations-updated_efam.tsv', sep='\\t')\n",
        "efam_super_annote['Proteins'] = efam_super_annote['Proteins'].apply(literal_eval)\n",
        "\n",
        "\n",
        "#load trained model\n",
        "model = tf.keras.models.load_model('models/model_unknown.keras')\n",
        "classes = pickle.load(open('models/model_unknown_lb.pkl', 'rb'))\n",
        "\n",
        "\n",
        "#load necessary dictionaries for efam identifer and cluster lookups\n",
        "ci = {}\n",
        "for c in tqdm(efam_super_annote['Cluster']):\n",
        "    ps = efam_super_annote[efam_super_annote['Cluster'] == c]['Proteins'].item()\n",
        "    ci[c] = ps\n",
        "\n",
        "iv = pickle.load(open('identifier_to_vector_protbert_bdf_08132024.pkl', 'rb')) #file containing the dictionary mapping EFAM name to embedding vector\n",
        "\n",
        "cs = list(ci.keys())\n",
        "\n",
        "cs_preds = []\n",
        "cs_prediction_per_class = []\n",
        "for c in tqdm(cs):\n",
        "    vs = [iv[i] for i in ci[c] if i in iv.keys()]\n",
        "    if len(vs) < len(ci[c]):\n",
        "        print(c)\n",
        "        if len(vs) < 1:\n",
        "            continue\n",
        "    vs = np.vstack(vs)\n",
        "    pred = model.predict(vs, verbose=0)\n",
        "    pred_mean = np.mean(pred, axis=0)\n",
        "    pred_sd = np.std(pred, axis=0)\n",
        "    pred_score = pred_mean[pred_mean.argmax()]\n",
        "    pred_sd = pred_sd[pred_mean.argmax()]\n",
        "    pred_c = classes.classes_[pred_mean.argmax()]\n",
        "    cs_preds.append((c, pred_c, pred_score, pred_sd, len(vs)))\n",
        "    cs_prediction_per_class.append((\n",
        "        c,\n",
        "        pred_mean[0],\n",
        "        pred_mean[1],\n",
        "        pred_mean[2],\n",
        "        pred_mean[3],\n",
        "        pred_mean[4],\n",
        "        pred_mean[5],\n",
        "        pred_mean[6],\n",
        "        pred_mean[7],\n",
        "        pred_mean[8],\n",
        "        pred_mean[9]\n",
        "    ))\n",
        "\n",
        "\n",
        "cs_assignment = pd.DataFrame(cs_preds, columns=['cluster', 'label', 'average_prob', 'sd_prob', 'number_of_sequences'])\n",
        "cs_assignment.to_csv('efam_clusters_predictions.tsv', sep='\\t', index=False)\n",
        "\n",
        "cols = ('cluster',\n",
        "        classes.classes_[0],\n",
        "        classes.classes_[1],\n",
        "        classes.classes_[2],\n",
        "        classes.classes_[3],\n",
        "        classes.classes_[4],\n",
        "        classes.classes_[5],\n",
        "        classes.classes_[6],\n",
        "        classes.classes_[7],\n",
        "        classes.classes_[8],\n",
        "        classes.classes_[9]\n",
        "       )\n",
        "cs_assignment_1 = pd.DataFrame(cs_prediction_per_class, columns=cols)\n",
        "cs_assignment_1.to_csv('efam_clusters_all_probabilities.tsv', sep='\\t', index=False)\n",
        "\n",
        "\n"
      ],
      "metadata": {
        "id": "H4LU5pUTXpRo"
      },
      "id": "H4LU5pUTXpRo",
      "execution_count": null,
      "outputs": []
    }
  ],
  "metadata": {
    "kernelspec": {
      "display_name": "Python 3 (ipykernel)",
      "language": "python",
      "name": "python3"
    },
    "language_info": {
      "codemirror_mode": {
        "name": "ipython",
        "version": 3
      },
      "file_extension": ".py",
      "mimetype": "text/x-python",
      "name": "python",
      "nbconvert_exporter": "python",
      "pygments_lexer": "ipython3",
      "version": "3.9.13"
    },
    "colab": {
      "provenance": [],
      "include_colab_link": true
    }
  },
  "nbformat": 4,
  "nbformat_minor": 5
}